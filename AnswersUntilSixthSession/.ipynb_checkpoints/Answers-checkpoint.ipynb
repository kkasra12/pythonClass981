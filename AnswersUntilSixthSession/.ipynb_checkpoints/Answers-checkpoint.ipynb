{
 "cells": [
  {
   "cell_type": "markdown",
   "metadata": {
    "toc": true
   },
   "source": [
    "<h1>Table of Contents<span class=\"tocSkip\"></span></h1>\n",
    "<div class=\"toc\"><ul class=\"toc-item\"><li><span><a href=\"#Session-2\" data-toc-modified-id=\"Session-2-1\">Session 2</a></span><ul class=\"toc-item\"><li><span><a href=\"#QUESTION0\" data-toc-modified-id=\"QUESTION0-1.1\">QUESTION0</a></span></li><li><span><a href=\"#Question1\" data-toc-modified-id=\"Question1-1.2\">Question1</a></span></li><li><span><a href=\"#Question2\" data-toc-modified-id=\"Question2-1.3\">Question2</a></span></li><li><span><a href=\"#Question3\" data-toc-modified-id=\"Question3-1.4\">Question3</a></span></li></ul></li></ul></div>"
   ]
  },
  {
   "cell_type": "markdown",
   "metadata": {},
   "source": [
    "# Session 2"
   ]
  },
  {
   "cell_type": "markdown",
   "metadata": {},
   "source": [
    "## QUESTION0\n",
    "Bob's space button is broken and is misbihaving which inserts several space characters instead of one. Write a program to help him for this problem.\n",
    "\n",
    "**input** is a string containing several consecutive spaces. \n",
    "\n",
    "**output** Replace this spaces with one single space. Also omit any extra space at the end or start of the string.\n",
    "\n",
    "\\\n",
    "\\\n",
    "\\\n",
    "**input0**\n",
    "```\n",
    "Hello         my      name    is   Bob.\n",
    "```\n",
    "**output0**\n",
    "```\n",
    "Hello my name is Bob.\n",
    "```"
   ]
  },
  {
   "cell_type": "code",
   "execution_count": 3,
   "metadata": {},
   "outputs": [
    {
     "name": "stdout",
     "output_type": "stream",
     "text": [
      "Hello         my      name    is   Bob.\n",
      "Hello my name is Bob.\n"
     ]
    }
   ],
   "source": [
    "txt=input()\n",
    "ans=\"\"\n",
    "for index,data in enumerate(txt):\n",
    "    if (data==\" \" and txt[index-1]!=\" \")  or data!=\" \":\n",
    "        ans+=data\n",
    "print(ans)"
   ]
  },
  {
   "cell_type": "code",
   "execution_count": 5,
   "metadata": {},
   "outputs": [
    {
     "name": "stdout",
     "output_type": "stream",
     "text": [
      "Hello         my      name    is   Bob.\n",
      "Hello my name is Bob.\n"
     ]
    }
   ],
   "source": [
    "print(\" \".join([i for i in input().split(\" \") if i!=\"\"]))"
   ]
  },
  {
   "cell_type": "code",
   "execution_count": 12,
   "metadata": {},
   "outputs": [
    {
     "name": "stdout",
     "output_type": "stream",
     "text": [
      "Hello         my      name    is   Bob.\n",
      "Hello my name is Bob.\n"
     ]
    }
   ],
   "source": [
    "txt=input()\n",
    "tmp=\"\"\n",
    "while txt!=tmp:\n",
    "    tmp=txt\n",
    "    txt=txt.replace('  ',' ')\n",
    "print(txt)"
   ]
  },
  {
   "cell_type": "code",
   "execution_count": 7,
   "metadata": {},
   "outputs": [
    {
     "name": "stdout",
     "output_type": "stream",
     "text": [
      "Hello         my      name    is   Bob.\n",
      "Hello my name is Bob.\n"
     ]
    }
   ],
   "source": [
    "from re import sub\n",
    "txt=input()\n",
    "print(sub('\\s+',' ',txt))"
   ]
  },
  {
   "cell_type": "markdown",
   "metadata": {},
   "source": [
    "## Question1\n",
    "Bob wants to know all file extensions used in his computer, hence he has prepared a list containing all of files in his computer. Now help him to find all extensions and print them out.\n",
    "\n",
    "**input** is a file names (each name in a single line and the last line is empty)\n",
    "\n",
    "**output** print all extensions:\n",
    "- extensions must not be duplicated\n",
    "- sort them in alphabetic order\n",
    "- seperate each item with `--`\n",
    "\n",
    "\\\n",
    "\\\n",
    "\\\n",
    "**input0**\n",
    "```\n",
    "tmp.txt\n",
    "download.jpeg\n",
    "project.DB.first.exe\n",
    "```\n",
    "**output0**\n",
    "```\n",
    "txt -- jpeg -- exe\n",
    "```\n"
   ]
  },
  {
   "cell_type": "code",
   "execution_count": 15,
   "metadata": {},
   "outputs": [
    {
     "name": "stdout",
     "output_type": "stream",
     "text": [
      "vnfdb.txt\n",
      "krge.jpg\n",
      "vhe.jpeg\n",
      "ejb.jeb.jkeb.exe\n",
      "\n",
      "exe -- jpeg -- jpg -- txt\n"
     ]
    }
   ],
   "source": [
    "entry=[]\n",
    "while 1:\n",
    "    tmp=input()\n",
    "    if tmp=='':\n",
    "        break\n",
    "    entry.append(tmp)\n",
    "print(\" -- \".join(sorted([i.split('.')[-1] for i in entry])))"
   ]
  },
  {
   "cell_type": "markdown",
   "metadata": {},
   "source": [
    "## Question2\n",
    "recently, Bob has studied about ([Hamming distance](https://en.wikipedia.org/wiki/Hamming_distance).\n",
    "now he invented new distance named Bob distance which works like this:\n",
    "- check whether two strings has same length or not. answer `-1` if they are not same lenght\n",
    "- find two strings differences\n",
    "- sum all indexes which are different (indexes starts from 1)\n",
    "\n",
    "*input* is two strings\n",
    "\n",
    "*output* is a single number showing Bob distance\n",
    "\n",
    "\\\n",
    "\\\n",
    "\\\n",
    "**input0**\n",
    "```\n",
    "1000111011\\\n",
    "1000011110\n",
    "```\n",
    "**output0**\n",
    "```\n",
    "23\n",
    "```\n",
    "\n",
    ">NOTE: 23=10+8+5"
   ]
  },
  {
   "cell_type": "code",
   "execution_count": 20,
   "metadata": {},
   "outputs": [
    {
     "name": "stdout",
     "output_type": "stream",
     "text": [
      "1000111011\n",
      "1000011110\n",
      "23\n"
     ]
    }
   ],
   "source": [
    "n0=input()\n",
    "n1=input()\n",
    "if len(n0)!=len(n1):\n",
    "    raise Exception(\"please give me two SAME size strings :/ \")\n",
    "ans=0\n",
    "for index,data in enumerate(zip(n0,n1)):\n",
    "    if data[0]!=data[1]:\n",
    "        ans+=index+1\n",
    "print(ans)"
   ]
  },
  {
   "cell_type": "code",
   "execution_count": 23,
   "metadata": {},
   "outputs": [
    {
     "name": "stdout",
     "output_type": "stream",
     "text": [
      "1000111011\n",
      "1000011110\n",
      "23\n"
     ]
    }
   ],
   "source": [
    "n0=input()\n",
    "n1=input()\n",
    "if len(n0)!=len(n1):\n",
    "    print(\"Ooops!!! Those are not SAME size :| \")\n",
    "else:\n",
    "    print(sum([index+1 for index,data in enumerate(zip(n0,n1)) if data[0]!=data[1]]))"
   ]
  },
  {
   "cell_type": "markdown",
   "metadata": {},
   "source": [
    "## Question3\n",
    "Bob could send an essay about his *'Bob distance'* to ISI.\n",
    "now he wants to update his coding by changing the indexes:\\\n",
    " **number the index as increasing power of two and sum this new numbers**\n",
    "\n",
    "**input0**\n",
    "```\n",
    "kasraaaa\n",
    "jasrraae\n",
    "```\n",
    "\n",
    "**output0**\n",
    "```\n",
    "145\n",
    "```\n",
    "\n",
    "<table>\n",
    "  <tr>\n",
    "    <td>k</td><td>a</td><td>s</td><td>r</td><td>a</td><td>a</td><td>a</td><td>a</td>\n",
    "  </tr>\n",
    "  <tr>\n",
    "    <td>j</td><td>a</td><td>s</td><td>r</td><td>r</td><td>a</td><td>a</td><td>e</td>\n",
    "  </tr>\n",
    "  <tr>\n",
    "  <td><b>1</b></td><td>2</td><td>4</td><td>8</td><td><b>16</b></td><td>32</td><td>64</td><td><b>128</b></td>\n",
    "\n",
    "  </tr>\n",
    "</table>\n",
    "\n",
    "> NOTE: 1+16+128=145\n"
   ]
  },
  {
   "cell_type": "code",
   "execution_count": 28,
   "metadata": {},
   "outputs": [
    {
     "name": "stdout",
     "output_type": "stream",
     "text": [
      "jasrraae\n",
      "kasraaaa\n",
      "145\n"
     ]
    }
   ],
   "source": [
    "n0=input()\n",
    "n1=input()\n",
    "if len(n0)!=len(n1):\n",
    "    print(\"Ooops!!! Those are not SAME size :| \")\n",
    "else:\n",
    "    print(sum([2**index for index,data in enumerate(zip(n0,n1)) if data[0]!=data[1]]))"
   ]
  },
  {
   "cell_type": "code",
   "execution_count": null,
   "metadata": {},
   "outputs": [],
   "source": []
  }
 ],
 "metadata": {
  "kernelspec": {
   "display_name": "Python 3",
   "language": "python",
   "name": "python3"
  },
  "language_info": {
   "codemirror_mode": {
    "name": "ipython",
    "version": 3
   },
   "file_extension": ".py",
   "mimetype": "text/x-python",
   "name": "python",
   "nbconvert_exporter": "python",
   "pygments_lexer": "ipython3",
   "version": "3.6.8"
  },
  "toc": {
   "base_numbering": 1,
   "nav_menu": {},
   "number_sections": false,
   "sideBar": true,
   "skip_h1_title": false,
   "title_cell": "Table of Contents",
   "title_sidebar": "Contents",
   "toc_cell": true,
   "toc_position": {},
   "toc_section_display": true,
   "toc_window_display": false
  },
  "widgets": {
   "application/vnd.jupyter.widget-state+json": {
    "state": {},
    "version_major": 2,
    "version_minor": 0
   }
  }
 },
 "nbformat": 4,
 "nbformat_minor": 2
}
