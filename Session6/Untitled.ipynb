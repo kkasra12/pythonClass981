{
 "cells": [
  {
   "cell_type": "markdown",
   "metadata": {},
   "source": [
    "# Turtule\n",
    "[Turtle doc](https://docs.python.org/3.3/library/turtle.html?highlight=turtle)\\\n",
    "[A good toturial](https://likegeeks.com/python-gui-examples-tkinter-tutorial)"
   ]
  },
  {
   "cell_type": "code",
   "execution_count": null,
   "metadata": {},
   "outputs": [],
   "source": [
    "import turtle as t\n",
    "for _ in range(4):\n",
    "    t.forward(100)\n",
    "    t.left(90)\n",
    "t.done()"
   ]
  },
  {
   "cell_type": "code",
   "execution_count": null,
   "metadata": {},
   "outputs": [],
   "source": [
    "# lets draw bigger image\n",
    "import turtle as t\n",
    "\n",
    "for i in range(100,0,-1):\n",
    "    t.forward(i)\n",
    "    t.left(75)\n",
    "t.done()"
   ]
  },
  {
   "cell_type": "markdown",
   "metadata": {},
   "source": [
    "**How to increase the turtle's speed**"
   ]
  },
  {
   "cell_type": "code",
   "execution_count": null,
   "metadata": {},
   "outputs": [],
   "source": [
    "import turtle as t\n",
    "t.speed(10)\n",
    "for i in range(100,0,-1):\n",
    "    t.forward(i)\n",
    "    t.left(100)\n",
    "t.done()"
   ]
  },
  {
   "cell_type": "markdown",
   "metadata": {},
   "source": [
    "## Change the Color"
   ]
  },
  {
   "cell_type": "code",
   "execution_count": null,
   "metadata": {
    "scrolled": true
   },
   "outputs": [],
   "source": [
    "import turtle as t\n",
    "from random import randint\n",
    "t.speed(10)\n",
    "colors=['red', 'purple', 'blue', 'green', 'yellow', 'orange','#33cc8c','#fa3']\n",
    "for i in range(100,0,-1):\n",
    "    t.pencolor(colors[randint(0,len(colors)-1)])\n",
    "    t.forward(i)\n",
    "    t.left(100)\n",
    "t.done()"
   ]
  },
  {
   "cell_type": "code",
   "execution_count": null,
   "metadata": {},
   "outputs": [],
   "source": [
    "import turtle as t\n",
    "from random import randint\n",
    "t.speed(10)\n",
    "colors=['red', 'purple', 'blue', 'green', 'yellow', 'orange','#33cc8c','#fa3']\n",
    "for i in range(100,0,-1):\n",
    "    t.pencolor(\"#\"+\"\".join([hex(randint(16,255))[2:] for _ in range(3)]))\n",
    "    t.forward(i)\n",
    "    t.left(100)\n",
    "    t.stamp()\n",
    "t.done()"
   ]
  },
  {
   "cell_type": "markdown",
   "metadata": {},
   "source": [
    "## Some of Usefull Methods\n",
    "- `forward` and `backward`\n",
    "- `left` and `right`\n",
    "- `goto` and `setx` and `sety`\n",
    "- `setheading`\n",
    "- `write`\n",
    "- `pendown`\n",
    "- `penup`\n",
    "- `pensize`\n",
    "- `stamp`"
   ]
  },
  {
   "cell_type": "markdown",
   "metadata": {},
   "source": [
    "## Filling in Shape"
   ]
  },
  {
   "cell_type": "code",
   "execution_count": null,
   "metadata": {},
   "outputs": [],
   "source": [
    "import turtle as t\n",
    "t.fillcolor('purple')\n",
    "t.pensize(10)\n",
    "t.pencolor('black')\n",
    "t.forward(100)\n",
    "\n",
    "t.begin_fill()\n",
    "for _ in range(4):\n",
    "    t.forward(100)\n",
    "    t.left(90)\n",
    "t.undo()\n",
    "for _ in range(3):\n",
    "    t.forward(100)\n",
    "    t.right(90)\n",
    "t.end_fill()\n",
    "t.done()"
   ]
  },
  {
   "cell_type": "code",
   "execution_count": null,
   "metadata": {},
   "outputs": [],
   "source": [
    "import turtle\n",
    "turtle.color('red', 'yellow')\n",
    "turtle.begin_fill()\n",
    "while True:\n",
    "    turtle.forward(200)\n",
    "    turtle.left(170)\n",
    "    if abs(turtle.pos()) < 1:\n",
    "        break\n",
    "turtle.end_fill()\n",
    "turtle.done()"
   ]
  },
  {
   "cell_type": "markdown",
   "metadata": {},
   "source": [
    "**Question:** Write a program which asks for `n` and draws a n side polygon.\\\n",
    "**Question:** Write a program which asks for `n` and draws an star with n hands.\\\n",
    "**Question:** Write a program which draws a spiral."
   ]
  },
  {
   "cell_type": "code",
   "execution_count": 9,
   "metadata": {},
   "outputs": [
    {
     "name": "stdout",
     "output_type": "stream",
     "text": [
      "100\n",
      "176\n",
      "176\n",
      "176\n",
      "176\n",
      "176\n",
      "176\n",
      "176\n",
      "176\n",
      "176\n",
      "176\n",
      "176\n",
      "176\n",
      "176\n",
      "176\n",
      "176\n",
      "176\n",
      "176\n",
      "176\n",
      "176\n",
      "176\n",
      "176\n",
      "176\n",
      "176\n",
      "176\n",
      "176\n",
      "176\n",
      "176\n",
      "176\n",
      "176\n",
      "176\n",
      "176\n",
      "176\n",
      "176\n",
      "176\n",
      "176\n",
      "176\n",
      "176\n",
      "176\n",
      "176\n",
      "176\n",
      "176\n",
      "176\n",
      "176\n",
      "176\n",
      "176\n",
      "176\n",
      "176\n",
      "176\n",
      "176\n",
      "176\n",
      "176\n",
      "176\n",
      "176\n",
      "176\n",
      "176\n",
      "176\n",
      "176\n",
      "176\n",
      "176\n",
      "176\n",
      "176\n",
      "176\n",
      "176\n",
      "176\n",
      "176\n",
      "176\n",
      "176\n",
      "176\n",
      "176\n",
      "176\n",
      "176\n",
      "176\n",
      "176\n",
      "176\n",
      "176\n",
      "176\n",
      "176\n",
      "176\n",
      "176\n",
      "176\n",
      "176\n",
      "176\n",
      "176\n",
      "176\n",
      "176\n",
      "176\n",
      "176\n",
      "176\n",
      "176\n",
      "176\n",
      "176\n",
      "176\n",
      "176\n",
      "176\n",
      "176\n",
      "176\n",
      "176\n",
      "176\n",
      "176\n",
      "176\n"
     ]
    }
   ],
   "source": [
    "import turtle as t\n",
    "n=int(input())\n",
    "for _ in range(n):\n",
    "    t.forward(1)\n",
    "    print(180*(n-2)//n)\n",
    "    t.right(180-180*(n-2)//n)\n",
    "t.done()"
   ]
  },
  {
   "cell_type": "code",
   "execution_count": 3,
   "metadata": {},
   "outputs": [
    {
     "name": "stdout",
     "output_type": "stream",
     "text": [
      "5\n"
     ]
    }
   ],
   "source": [
    "import turtle as t\n",
    "n=int(input())\n",
    "littleAngle=180*(n-2)/n-120\n",
    "bigAngle=300\n",
    "step=100\n",
    "for _ in range(n):\n",
    "    t.forward(step)\n",
    "    t.left(180-littleAngle)\n",
    "    t.forward(step)\n",
    "    t.right(120)\n",
    "t.done()"
   ]
  },
  {
   "cell_type": "code",
   "execution_count": 5,
   "metadata": {},
   "outputs": [
    {
     "name": "stdout",
     "output_type": "stream",
     "text": [
      "5\n"
     ]
    }
   ],
   "source": [
    "import turtle as t\n",
    "n=int(input())\n",
    "for _ in range(n):\n",
    "    t.forward(100)\n",
    "    t.right(180-90*(n-2)//n)\n",
    "t.done()"
   ]
  },
  {
   "cell_type": "markdown",
   "metadata": {},
   "source": [
    "# Tkinter\n",
    "visit [tkinter's doc](https://docs.python.org/3/library/tk.html).\\\n",
    "also there is a perfect tutorial for tkinter available at [here](http://effbot.org/tkinterbook/)"
   ]
  },
  {
   "cell_type": "code",
   "execution_count": 10,
   "metadata": {},
   "outputs": [],
   "source": [
    "import tkinter as tk\n",
    "window = tk.Tk()\n",
    "window.title(\"Python981\")\n",
    "window.mainloop()"
   ]
  },
  {
   "cell_type": "markdown",
   "metadata": {},
   "source": [
    "## Label"
   ]
  },
  {
   "cell_type": "code",
   "execution_count": 11,
   "metadata": {},
   "outputs": [],
   "source": [
    "import tkinter as tk\n",
    "window = tk.Tk()\n",
    "window.title(\"Python981\")\n",
    "lbl = tk.Label(window, text=\"Hello\")\n",
    "lbl.grid(column=0, row=0)\n",
    "window.mainloop()"
   ]
  },
  {
   "cell_type": "markdown",
   "metadata": {},
   "source": [
    "lets make the window **bigger**"
   ]
  },
  {
   "cell_type": "code",
   "execution_count": 13,
   "metadata": {},
   "outputs": [],
   "source": [
    "import tkinter as tk\n",
    "window = tk.Tk()\n",
    "window.title(\"Python981\")\n",
    "window.geometry(\"200x300+100+500\") # NewLine\n",
    "lbl = tk.Label(window, text=\"Hello\")\n",
    "lbl.grid(column=0, row=0)\n",
    "window.mainloop()"
   ]
  },
  {
   "cell_type": "markdown",
   "metadata": {},
   "source": [
    "### Change the Font Size"
   ]
  },
  {
   "cell_type": "code",
   "execution_count": 14,
   "metadata": {},
   "outputs": [],
   "source": [
    "import tkinter as tk\n",
    "window = tk.Tk()\n",
    "window.title(\"Python981\")\n",
    "window.geometry(\"200x200+100+200\")\n",
    "lbl = tk.Label(window, text=\"Hello\", font=(\"Arial Bold\", 50)) \n",
    "lbl.grid(column=0, row=0)\n",
    "window.mainloop()"
   ]
  },
  {
   "cell_type": "markdown",
   "metadata": {},
   "source": [
    "*or...*"
   ]
  },
  {
   "cell_type": "code",
   "execution_count": null,
   "metadata": {},
   "outputs": [],
   "source": [
    "import tkinter as tk\n",
    "window = tk.Tk()\n",
    "window.title(\"Python981\")\n",
    "window.geometry(\"200x200+100+200\")\n",
    "lbl = tk.Label(window, text=\"Hello\")\n",
    "lbl.config(font=(\"Arial Bold\", 50))\n",
    "lbl.grid(column=0, row=0)\n",
    "window.mainloop()"
   ]
  },
  {
   "cell_type": "markdown",
   "metadata": {},
   "source": [
    "## Button"
   ]
  },
  {
   "cell_type": "code",
   "execution_count": 15,
   "metadata": {},
   "outputs": [],
   "source": [
    "import tkinter as tk\n",
    "window = tk.Tk()\n",
    "window.title(\"python981\")\n",
    "window.geometry('200x200+100+200')\n",
    "lbl = tk.Label(window, text=\"Hello\")\n",
    "lbl.grid(column=0, row=0)\n",
    "btn = tk.Button(window, text=\"Click Me\")\n",
    "btn.grid(column=1, row=0)\n",
    "window.mainloop()"
   ]
  },
  {
   "cell_type": "markdown",
   "metadata": {},
   "source": [
    "### Button Click Event"
   ]
  },
  {
   "cell_type": "code",
   "execution_count": 21,
   "metadata": {},
   "outputs": [
    {
     "name": "stdout",
     "output_type": "stream",
     "text": [
      "0\n",
      "0\n"
     ]
    }
   ],
   "source": [
    "import tkinter as tk\n",
    "m=0\n",
    "def clicked(n):\n",
    "    print(n)\n",
    "    if n%2==0:\n",
    "        btn.configure(bg='red')\n",
    "    else:\n",
    "        btn.configure(bg='green')\n",
    "    n+=1\n",
    "window = tk.Tk()\n",
    "window.title(\"python981\")\n",
    "window.geometry('200x200+100+200')\n",
    "lbl = tk.Label(window, text=\"Hello\")\n",
    "lbl.grid(column=0, row=0)\n",
    "btn = tk.Button(window, text=\"Click Me\",command=lambda :clicked(m))\n",
    "btn.grid(column=1, row=0)\n",
    "window.mainloop()"
   ]
  },
  {
   "cell_type": "markdown",
   "metadata": {},
   "source": [
    "**Question:** make the button color toggle by each click!!!"
   ]
  },
  {
   "cell_type": "markdown",
   "metadata": {},
   "source": [
    "## Tkinter Geometry Managers\n",
    "- Grid\n",
    "- pack\n",
    "- place"
   ]
  },
  {
   "cell_type": "markdown",
   "metadata": {},
   "source": [
    "### Pack"
   ]
  },
  {
   "cell_type": "code",
   "execution_count": 23,
   "metadata": {},
   "outputs": [],
   "source": [
    "import tkinter as tk\n",
    "root = tk.Tk()\n",
    "w0 = tk.Label(root, text=\"Red Sun\", bg=\"red\", fg=\"white\")\n",
    "w0.pack()\n",
    "w1 = tk.Label(root, text=\"Green Grass\", bg=\"green\", fg=\"black\")\n",
    "w1.pack(fill=tk.X)\n",
    "w2 = tk.Label(root, text=\"Blue Sky\", bg=\"blue\", fg=\"white\")\n",
    "w2.pack(pady=10)\n",
    "tk.mainloop()"
   ]
  },
  {
   "cell_type": "code",
   "execution_count": 24,
   "metadata": {},
   "outputs": [],
   "source": [
    "import tkinter as tk\n",
    "root = tk.Tk()\n",
    "w0 = tk.Label(root, text=\"Red Sun\", bg=\"red\", fg=\"white\")\n",
    "w0.pack(ipadx=20)\n",
    "w1 = tk.Label(root, text=\"Green Grass\", bg=\"green\", fg=\"black\")\n",
    "w1.pack(ipady=20)\n",
    "w2 = tk.Label(root, text=\"Blue Sky\", bg=\"blue\", fg=\"white\")\n",
    "w2.pack(padx=20)\n",
    "tk.mainloop()"
   ]
  },
  {
   "cell_type": "code",
   "execution_count": 26,
   "metadata": {},
   "outputs": [],
   "source": [
    "import tkinter as tk\n",
    "root = tk.Tk()\n",
    "w0 = tk.Label(root, text=\"red\", bg=\"red\", fg=\"white\")\n",
    "w0.pack(padx=5, pady=10, side=tk.LEFT)\n",
    "w1 = tk.Label(root, text=\"green\", bg=\"green\", fg=\"black\")\n",
    "w1.pack(padx=5, pady=20, side=tk.RIGHT)\n",
    "w2 = tk.Label(root, text=\"blue\", bg=\"blue\", fg=\"white\")\n",
    "w2.pack(padx=5, pady=20, side=tk.LEFT)\n",
    "tk.mainloop()"
   ]
  },
  {
   "cell_type": "markdown",
   "metadata": {},
   "source": [
    "### Place"
   ]
  },
  {
   "cell_type": "code",
   "execution_count": 27,
   "metadata": {},
   "outputs": [],
   "source": [
    "import tkinter as tk\n",
    "root = tk.Tk()\n",
    "root.geometry(\"600x600+300+300\")\n",
    "w0 = tk.Label(root, text=\"red\", bg=\"red\", fg=\"white\")\n",
    "w0.place(x=20, y=100, width=200, height=300)\n",
    "w1 = tk.Label(root, text=\"green\", bg=\"green\", fg=\"black\")\n",
    "w1.place(x=250, y=450, width=50, height=50)\n",
    "w2 = tk.Label(root, text=\"blue\", bg=\"blue\", fg=\"white\")\n",
    "w2.place(x=300, y=500, width=50, height=50)\n",
    "# w2.geometry(\"50x50+300+500\")\n",
    "tk.mainloop()"
   ]
  },
  {
   "cell_type": "markdown",
   "metadata": {},
   "source": [
    "### Grid"
   ]
  },
  {
   "cell_type": "code",
   "execution_count": 30,
   "metadata": {},
   "outputs": [],
   "source": [
    "import tkinter as tk\n",
    "root = tk.Tk()\n",
    "root.geometry(\"600x600+300+300\")\n",
    "w0 = tk.Label(root, text=\"red\", bg=\"red\", fg=\"white\")\n",
    "w0.grid(column=0,row=1)\n",
    "w1 = tk.Label(root, text=\"green\", bg=\"green\", fg=\"black\")\n",
    "w1.grid(column=0,row=2)\n",
    "w2 = tk.Label(root, text=\"blue\", bg=\"blue\", fg=\"white\")\n",
    "w2.grid(column=1,row=10)\n",
    "# w2.geometry(\"50x50+300+500\")\n",
    "tk.mainloop()"
   ]
  },
  {
   "cell_type": "markdown",
   "metadata": {},
   "source": [
    "## Entry"
   ]
  },
  {
   "cell_type": "code",
   "execution_count": 32,
   "metadata": {},
   "outputs": [],
   "source": [
    "import tkinter as tk\n",
    "def clicked():\n",
    "    lbl.configure(text=\"Welcome to \" + txt.get())\n",
    "window = tk.Tk()\n",
    "window.title(\"python981\")\n",
    "window.geometry('500x50+100+200')\n",
    "lbl = tk.Label(window, text=\"Hello\")\n",
    "lbl.grid(column=0, row=0)\n",
    "txt = tk.Entry(window,width=10)\n",
    "txt.grid(column=1, row=0)\n",
    "btn = tk.Button(window, text=\"Click Me\", command=clicked)\n",
    "btn.grid(column=2, row=0)\n",
    "window.mainloop()"
   ]
  },
  {
   "cell_type": "markdown",
   "metadata": {},
   "source": [
    "## Variables\n",
    "**imagine** we want keep watching an Entry, and it displayes proper message if password is correct"
   ]
  },
  {
   "cell_type": "markdown",
   "metadata": {},
   "source": [
    "#### The Variable Classes \n",
    "- BooleanVar\n",
    "- DoubleVar\n",
    "- IntVar\n",
    "- StringVar"
   ]
  },
  {
   "cell_type": "code",
   "execution_count": 33,
   "metadata": {},
   "outputs": [],
   "source": [
    "import tkinter as tk\n",
    "def txt0_changed(*arg):\n",
    "    if txt0Var.get()==\"kasra\":\n",
    "        lbl0.config(text=\"you know my name correctly *__* \")\n",
    "    else:\n",
    "        lbl0.config(text=\"i hate u, unless you type my name correctly :/ \")\n",
    "window = tk.Tk()\n",
    "window.title(\"python981\")\n",
    "window.geometry('500x50+100+200')\n",
    "lbl0 = tk.Label(window, text=\"i hate u, unless you type my name correctly :/ \")\n",
    "lbl0.grid(column=0, row=1)\n",
    "txt0Var=tk.StringVar()\n",
    "txt0Var.trace('w',txt0_changed)\n",
    "txt0 = tk.Entry(window,width=10,textvariable=txt0Var)\n",
    "txt0.grid(column=0, row=0)\n",
    "txt0.focus()\n",
    "window.mainloop()"
   ]
  },
  {
   "cell_type": "markdown",
   "metadata": {},
   "source": [
    "## Combo Box"
   ]
  },
  {
   "cell_type": "code",
   "execution_count": 34,
   "metadata": {},
   "outputs": [],
   "source": [
    "import tkinter as tk\n",
    "from tkinter import ttk\n",
    "window = tk.Tk()\n",
    "window.title(\"python981\")\n",
    "window.geometry('350x200')\n",
    "combo = ttk.Combobox(window)\n",
    "combo['values']= ('January',\n",
    "                  'February',\n",
    "                  'March',\n",
    "                  'April',\n",
    "                  'May',\n",
    "                  'June',\n",
    "                  'July',\n",
    "                  'August',\n",
    "                  'September',\n",
    "                  'October',\n",
    "                  'November',\n",
    "                  'December',)\n",
    "combo.current(0) #set the selected item\n",
    "combo.grid(column=1, row=0)\n",
    "tk.Label(window,text=\"Choose your BD: \").grid(column=0,row=0)\n",
    "window.mainloop()"
   ]
  },
  {
   "cell_type": "markdown",
   "metadata": {},
   "source": [
    "## Check Box"
   ]
  },
  {
   "cell_type": "code",
   "execution_count": 36,
   "metadata": {},
   "outputs": [],
   "source": [
    "import tkinter as tk\n",
    "from tkinter import ttk\n",
    "def showPass(*args):\n",
    "    if chk_state.get():\n",
    "        txtpasswrd.config(show=\"\")\n",
    "    else:\n",
    "        txtpasswrd.config(show='\\U00002022')\n",
    "\n",
    "window = tk.Tk()\n",
    "window.title(\"python981\") \n",
    "window.geometry('300x100')\n",
    "txtpasswrd=tk.Entry(window,show='\\U00002022',width=20)\n",
    "txtpasswrd.grid(column=0,row=0)\n",
    "chk_state = tk.BooleanVar()\n",
    "chk_state.trace('w',showPass)\n",
    "chk = ttk.Checkbutton(window, text='showPass', var=chk_state)\n",
    "chk.grid(column=1, row=0)\n",
    "window.mainloop()"
   ]
  },
  {
   "cell_type": "markdown",
   "metadata": {},
   "source": [
    "## Message Box"
   ]
  },
  {
   "cell_type": "code",
   "execution_count": 37,
   "metadata": {},
   "outputs": [],
   "source": [
    "import tkinter as tk\n",
    "from tkinter import messagebox\n",
    "from tkinter import ttk\n",
    "def showPass(*args):\n",
    "    if chk_state.get():\n",
    "        txtpasswrd.config(show=\"\")\n",
    "    else:\n",
    "        txtpasswrd.config(show='\\U00002022')\n",
    "def checkPass():\n",
    "    if txtpasswrd.get()=='kasraPass':\n",
    "        messagebox.showinfo('Correct pass','Hello ma friend :* ')\n",
    "    else:\n",
    "        messagebox.showerror('Wrong pass','Get lost bad intruder -__- ')\n",
    "window = tk.Tk()\n",
    "window.title(\"python981\") \n",
    "window.geometry('300x100')\n",
    "txtpasswrd=tk.Entry(window,show='\\U00002022',width=20)\n",
    "txtpasswrd.grid(column=0,row=0)\n",
    "chk_state = tk.BooleanVar()\n",
    "chk_state.trace('w',showPass)\n",
    "chk = ttk.Checkbutton(window, text='showPass', var=chk_state)\n",
    "chk.grid(column=1, row=0)\n",
    "btnSumbit=tk.Button(window,text='Submit',command=checkPass)\n",
    "btnSumbit.grid(column=0,row=1)\n",
    "txtpasswrd.focus()\n",
    "window.mainloop()"
   ]
  },
  {
   "cell_type": "markdown",
   "metadata": {},
   "source": [
    "#### Message Box methods\n",
    "- showinfo\n",
    "- showwarning\n",
    "- showerror\n",
    "- askquestion\n",
    "- askyesno\n",
    "- askyesnocancel\n",
    "- askokcancel\n",
    "- askretrycancel"
   ]
  },
  {
   "cell_type": "markdown",
   "metadata": {},
   "source": [
    "## Read furthermore\n",
    "- Progressbar\n",
    "- Filedialog\n",
    "- Menu bar\n",
    "- Notebook widget"
   ]
  },
  {
   "cell_type": "code",
   "execution_count": null,
   "metadata": {},
   "outputs": [],
   "source": []
  }
 ],
 "metadata": {
  "kernelspec": {
   "display_name": "Python 3",
   "language": "python",
   "name": "python3"
  },
  "language_info": {
   "codemirror_mode": {
    "name": "ipython",
    "version": 3
   },
   "file_extension": ".py",
   "mimetype": "text/x-python",
   "name": "python",
   "nbconvert_exporter": "python",
   "pygments_lexer": "ipython3",
   "version": "3.6.8"
  }
 },
 "nbformat": 4,
 "nbformat_minor": 2
}
